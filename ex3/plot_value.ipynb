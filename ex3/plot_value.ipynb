{
 "cells": [
  {
   "cell_type": "code",
   "execution_count": null,
   "metadata": {},
   "outputs": [],
   "source": [
    "import sys, os\n",
    "sys.path.insert(0, os.path.abspath(\"..\"))\n",
    "import numpy as np\n",
    "from pathlib import Path\n",
    "from matplotlib import pyplot as plt\n",
    "import seaborn as sns\n",
    "\n",
    "from common import helper as h"
   ]
  },
  {
   "cell_type": "code",
   "execution_count": null,
   "metadata": {},
   "outputs": [],
   "source": [
    "# load the Q-value array\n",
    "env_name = \"CartPole-v0\"\n",
    "\n",
    "work_dir = Path().cwd()/'results'/f'{env_name}'\n",
    "data = h.load_object(work_dir/'q_table.pkl') # load q_table \n",
    "q_axis, q_table = data['axis'], data['q_table']\n",
    "x_axis, th_axis = q_axis[0], q_axis[2]  #get the axis for x and \\theta\n",
    "\n",
    "# e.g. 16\n",
    "discr = q_table.shape[0]"
   ]
  },
  {
   "cell_type": "code",
   "execution_count": null,
   "metadata": {},
   "outputs": [],
   "source": [
    "# TODO: Task 1.2 Plot the heatmap of the value function\n",
    "########## Your code begins here. ##########\n",
    "# Calculate the value function\n",
    "# values = np.zeros(q_table.shape[:-1]) \n",
    "values = np.zeros((discr, discr))\n",
    "for x in range(discr):\n",
    "    for y in range(discr):\n",
    "        values[x, y] = q_table[x, :, y, :].mean()\n",
    "\n",
    "# Plot the heatmap\n",
    "ax = sns.heatmap(values, xticklabels=x_axis, yticklabels=th_axis)\n",
    "ax.set(xlabel=\"x values\", ylabel=r\"$\\theta$ values\", title=\"Optimal value function of each state\")\n",
    "plt.show()\n",
    "########## Your code ends here. ##########"
   ]
  },
  {
   "cell_type": "code",
   "execution_count": null,
   "metadata": {},
   "outputs": [],
   "source": [
    "# save value \n",
    "h.save_object({'value': values, 'axis': q_axis},\n",
    "                work_dir/\"value.pkl\")"
   ]
  }
 ],
 "metadata": {
  "kernelspec": {
   "display_name": "Python 3.8.10 ('.venv': venv)",
   "language": "python",
   "name": "python3"
  },
  "language_info": {
   "codemirror_mode": {
    "name": "ipython",
    "version": 3
   },
   "file_extension": ".py",
   "mimetype": "text/x-python",
   "name": "python",
   "nbconvert_exporter": "python",
   "pygments_lexer": "ipython3",
   "version": "3.8.10"
  },
  "vscode": {
   "interpreter": {
    "hash": "1f8497943db1dadd4fbd20ffb51dc189621f1dacb0a290b9761cbed6024b236f"
   }
  }
 },
 "nbformat": 4,
 "nbformat_minor": 2
}
